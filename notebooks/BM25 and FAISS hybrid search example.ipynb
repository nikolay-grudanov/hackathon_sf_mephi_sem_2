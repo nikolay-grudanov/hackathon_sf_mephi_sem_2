{
 "cells": [
  {
   "cell_type": "markdown",
   "metadata": {},
   "source": [
    "Источник примера - [BM25 and FAISS hybrid search example](https://gist.github.com/breadchris/b73aae81953eb8f865ebb4842a1c15b5)\n"
   ]
  },
  {
   "cell_type": "code",
   "execution_count": 1,
   "metadata": {},
   "outputs": [
    {
     "name": "stderr",
     "output_type": "stream",
     "text": [
      "2025-04-23 01:08:58.002553: E external/local_xla/xla/stream_executor/plugin_registry.cc:91] Invalid plugin kind specified: FFT\n",
      "2025-04-23 01:08:58.025603: I tensorflow/core/platform/cpu_feature_guard.cc:210] This TensorFlow binary is optimized to use available CPU instructions in performance-critical operations.\n",
      "To enable the following instructions: SSE3 SSE4.1 SSE4.2 AVX AVX2 AVX512F AVX512_VNNI AVX512_BF16 AVX_VNNI FMA, in other operations, rebuild TensorFlow with the appropriate compiler flags.\n",
      "2025-04-23 01:08:58.352456: E external/local_xla/xla/stream_executor/plugin_registry.cc:91] Invalid plugin kind specified: DNN\n"
     ]
    }
   ],
   "source": [
    "import numpy as np\n",
    "from rank_bm25 import BM25Okapi\n",
    "from sentence_transformers import SentenceTransformer\n",
    "import faiss\n",
    "\n",
    "class HybridSearch:\n",
    "    def __init__(self, documents):\n",
    "        self.documents = documents\n",
    "\n",
    "        # BM25 initialization\n",
    "        tokenized_corpus = [doc.split(\" \") for doc in documents]\n",
    "        self.bm25 = BM25Okapi(tokenized_corpus)\n",
    "\n",
    "        # Sentence transformer for embeddings\n",
    "        self.model = SentenceTransformer('paraphrase-MiniLM-L6-v2')\n",
    "        self.document_embeddings = self.model.encode(documents)\n",
    "        \n",
    "        # FAISS initialization\n",
    "        self.index = faiss.IndexFlatL2(self.document_embeddings.shape[1])\n",
    "        self.index.add(np.array(self.document_embeddings).astype('float32'))\n",
    "\n",
    "    def search(self, query, top_n=10):\n",
    "        # BM25 search\n",
    "        bm25_scores = self.bm25.get_scores(query.split(\" \"))\n",
    "        top_docs_indices = np.argsort(bm25_scores)[-top_n:]\n",
    "        \n",
    "        # Get embeddings of top documents from BM25 search\n",
    "        top_docs_embeddings = [self.document_embeddings[i] for i in top_docs_indices]\n",
    "        query_embedding = self.model.encode([query])\n",
    "\n",
    "        # FAISS search on the top documents\n",
    "        sub_index = faiss.IndexFlatL2(top_docs_embeddings[0].shape[0])\n",
    "        sub_index.add(np.array(top_docs_embeddings).astype('float32'))\n",
    "        _, sub_dense_ranked_indices = sub_index.search(np.array(query_embedding).astype('float32'), top_n)\n",
    "\n",
    "        # Map FAISS results back to original document indices\n",
    "        final_ranked_indices = [top_docs_indices[i] for i in sub_dense_ranked_indices[0]]\n",
    "\n",
    "        # Retrieve the actual documents\n",
    "        ranked_docs = [self.documents[i] for i in final_ranked_indices]\n",
    "\n",
    "        return ranked_docs\n"
   ]
  },
  {
   "cell_type": "code",
   "execution_count": 2,
   "metadata": {},
   "outputs": [],
   "source": [
    "# Sample usage\n",
    "documents = [\n",
    "    \"Artificial Intelligence is changing the world.\",\n",
    "    \"Machine Learning is a subset of AI.\",\n",
    "    \"Deep Learning is a subset of Machine Learning.\",\n",
    "    \"Natural Language Processing involves understanding text.\",\n",
    "    \"Computer Vision allows machines to see and understand.\",\n",
    "    \"AI includes areas like NLP and Computer Vision.\",\n",
    "    \"The Pyramids of Giza are architectural marvels.\",\n",
    "    \"Mozart was a prolific composer during the classical era.\",\n",
    "    \"Mount Everest is the tallest mountain on Earth.\",\n",
    "    \"The Nile is one of the world's longest rivers.\",\n",
    "    \"Van Gogh's Starry Night is a popular piece of art.\"\n",
    "    \"Basketball is a sport played with a round ball and two teams.\"\n",
    "]"
   ]
  },
  {
   "cell_type": "code",
   "execution_count": 3,
   "metadata": {},
   "outputs": [
    {
     "name": "stderr",
     "output_type": "stream",
     "text": [
      "Using the `SDPA` attention implementation on multi-gpu setup with ROCM may lead to performance issues due to the FA backend. Disabling it to use alternative backends.\n"
     ]
    },
    {
     "name": "stdout",
     "output_type": "stream",
     "text": [
      "['AI includes areas like NLP and Computer Vision.', 'Machine Learning is a subset of AI.', 'Computer Vision allows machines to see and understand.', 'Natural Language Processing involves understanding text.', \"Van Gogh's Starry Night is a popular piece of art.Basketball is a sport played with a round ball and two teams.\", 'Deep Learning is a subset of Machine Learning.', 'Mozart was a prolific composer during the classical era.', \"The Nile is one of the world's longest rivers.\", 'The Pyramids of Giza are architectural marvels.', 'Mount Everest is the tallest mountain on Earth.']\n"
     ]
    },
    {
     "name": "stderr",
     "output_type": "stream",
     "text": [
      "/home/gna/anaconda3/envs/rocm/lib/python3.10/site-packages/torch/nn/modules/linear.py:125: UserWarning: Attempting to use hipBLASLt on an unsupported architecture! Overriding blas backend to hipblas (Triggered internally at ../aten/src/ATen/Context.cpp:296.)\n",
      "  return F.linear(input, self.weight, self.bias)\n",
      "/home/gna/anaconda3/envs/rocm/lib/python3.10/site-packages/transformers/models/bert/modeling_bert.py:440: UserWarning: Memory Efficient attention on Navi31 GPU is still experimental. Enable it with TORCH_ROCM_AOTRITON_ENABLE_EXPERIMENTAL=1. (Triggered internally at ../aten/src/ATen/native/transformers/hip/sdp_utils.cpp:269.)\n",
      "  attn_output = torch.nn.functional.scaled_dot_product_attention(\n"
     ]
    }
   ],
   "source": [
    "hs = HybridSearch(documents)\n",
    "query = \"Tell me about AI in text and vision.\"\n",
    "results = hs.search(query, top_n=10)\n",
    "print(results)"
   ]
  },
  {
   "cell_type": "code",
   "execution_count": 4,
   "metadata": {},
   "outputs": [],
   "source": [
    "documents = [\n",
    "    \"Твой лучший секс спрятан здесь 🔞  Делюсь каналом дипломированного сексолога. Крис взломала код классного секса, мастерски раскрепощает, знает миллион горячих техник и лучшие девайсы для взрослых 😻  Самые полезные посты здесь:   Отрезвляющий пост «Я все сама!»   Прокачай наездницу  Ролевая игра «VIP кинотеатр»   Техника оральных ласк 💣   Как занимается сeксом неудобная женщина   Кстати, Крис провела трехдневный безоплатный онлайн интенсив-«От бревна до Богини». Совместно с врачом и владельцем секс-шопа.   Скорее смотри записи, пока не удалила 🔞  https://t.me/sekretskris/1048   Здесь жарче, чем в аду 😈\",\n",
    "    \"⭐️  Кнопка: ⭐️START⭐️(https://t.me/major/start?startapp=1972869792)\",\n",
    "    \"Таро-прогноз на 23 Июля – Туз Мечей.   🔮 Совет: Меч – это достаточное количество сил для энергичных начинаний, огромная решимость действовать, начало успешной борьбы, готовность к росту, отрыву от изначального существования. Это ситуация, когда сам человек для себя многое прояснил и знает теперь, что хочет делать дальше. Это показатель силы – физической силы, силы воли, силы, приобретенной положением и умом или в силу обстоятельств. Триумф личной силы, власти над обстоятельствами. Триумф может относиться к любой стороне жизни: к работе, любви, денежным делам, духу, любым увлекающим занятиям. Этот Туз не столько начало, но и показатель завоеванного, торжества провозглашенных взглядов и принятых решений.   💰 Деньги: Процветание. Принятие однозначных и окончательных решений в этих вопросах. Возможность улучшить качество жизни, приняв вызов.   🩷 Любовь: В области отношений Туз Мечей символизирует импульсивную первобытную силу, интенсивные «завоевательные» эмоции, крайние чувства, связанные с ситуацией или человеком. Эмоции, которым покровительствует Туз Мечей, способны воспламенить таким огнем, который сожжет все препятствия на пути к цели, попутно причинив немало вреда. Мечи вообще масть холодная, и когда на горизонте в кои-то веки появляется единственная эмоция, то она заполоняет собой всё со свойственной этой масти тотальностью.  🎁🔥 РАСПРОДАЖА КУРСА «ОРАКУЛ ЛЕНОРМАН. БАЗОВЫЙ КУРС» В РАССРОЧКУ 👉🏻 http://alexeygrishin.com/lenorman_base.\",\n",
    "    \"он вообще не собирается переезжать в другое государство\",\n",
    "    \"ты не мог бы набрать меня после обеда\"\n",
    "]"
   ]
  },
  {
   "cell_type": "code",
   "execution_count": 5,
   "metadata": {},
   "outputs": [
    {
     "name": "stdout",
     "output_type": "stream",
     "text": [
      "['ты не мог бы набрать меня после обеда', 'он вообще не собирается переезжать в другое государство', 'Таро-прогноз на 23 Июля – Туз Мечей.   🔮 Совет: Меч – это достаточное количество сил для энергичных начинаний,\\xa0огромная решимость действовать, начало успешной борьбы, готовность к росту, отрыву от изначального существования. Это ситуация, когда сам человек для себя многое прояснил и знает теперь, что хочет делать дальше. Это показатель силы – физической силы, силы воли, силы, приобретенной положением и умом или в силу обстоятельств.\\xa0Триумф личной силы, власти над обстоятельствами. Триумф может относиться к любой стороне жизни: к работе, любви, денежным делам, духу, любым увлекающим занятиям. Этот Туз не столько начало, но и показатель завоеванного, торжества провозглашенных взглядов и принятых решений.   💰 Деньги: Процветание. Принятие однозначных и окончательных решений в этих вопросах. Возможность улучшить качество жизни, приняв вызов.   \\U0001fa77 Любовь: В области отношений Туз Мечей символизирует импульсивную первобытную силу, интенсивные «завоевательные» эмоции, крайние чувства, связанные с ситуацией или человеком. Эмоции, которым покровительствует Туз Мечей, способны воспламенить таким огнем, который сожжет все препятствия на пути к цели, попутно причинив немало вреда. Мечи вообще масть холодная, и когда на горизонте в кои-то веки появляется единственная эмоция, то она заполоняет собой всё со свойственной этой масти тотальностью.  🎁🔥 РАСПРОДАЖА КУРСА «ОРАКУЛ ЛЕНОРМАН. БАЗОВЫЙ КУРС» В РАССРОЧКУ 👉🏻 http://alexeygrishin.com/lenorman_base.', 'Твой лучший секс спрятан здесь 🔞  Делюсь каналом дипломированного сексолога. Крис взломала код классного секса, мастерски раскрепощает, знает миллион горячих техник и лучшие девайсы для взрослых 😻  Самые полезные посты здесь:   Отрезвляющий пост «Я все сама!»   Прокачай наездницу  Ролевая игра «VIP кинотеатр»   Техника оральных ласк 💣   Как занимается сeксом неудобная женщина   Кстати, Крис провела трехдневный безоплатный онлайн интенсив-«От бревна до Богини». Совместно с врачом и владельцем секс-шопа.   Скорее смотри записи, пока не удалила 🔞  https://t.me/sekretskris/1048   Здесь жарче, чем в аду 😈', '⭐️  Кнопка: ⭐️START⭐️(https://t.me/major/start?startapp=1972869792)', 'ты не мог бы набрать меня после обеда', 'ты не мог бы набрать меня после обеда', 'ты не мог бы набрать меня после обеда', 'ты не мог бы набрать меня после обеда', 'ты не мог бы набрать меня после обеда']\n"
     ]
    }
   ],
   "source": [
    "hs = HybridSearch(documents)\n",
    "query = \"страна\"\n",
    "results = hs.search(query, top_n=10)\n",
    "print(results)"
   ]
  },
  {
   "cell_type": "markdown",
   "metadata": {},
   "source": [
    "Объеснениее кода\n",
    "====\n",
    "\n",
    "Этот код реализует **гибридную систему поиска**, сочетающую методы **BM25** (статистический подход) и **векторного поиска** (семантический подход) для повышения релевантности результатов. Вот детальный разбор:\n",
    "\n",
    "---\n",
    "\n",
    "### **1. Инициализация (`__init__`)**  \n",
    "- **BM25Okapi**  \n",
    "  - Токенизирует корпус документов (разделяет текст на слова) .  \n",
    "  - Инициализирует BM25 для ранжирования документов по ключевым словам.  \n",
    "\n",
    "- **SentenceTransformer**  \n",
    "  - Создает семантические эмбеддинги документов с помощью модели `paraphrase-MiniLM-L6-v2` .  \n",
    "  - Эти эмбеддинги отражают смысл текста, а не только ключевые слова.  \n",
    "\n",
    "- **FAISS**  \n",
    "  - Индексирует эмбеддинги документов для быстрого поиска по сходству (используется L2-расстояние) .  \n",
    "\n",
    "---\n",
    "\n",
    "### **2. Поиск (`search`)**  \n",
    "- **Этап 1: BM25**  \n",
    "  - Вычисляет релевантность документов по ключевым словам из запроса .  \n",
    "  - Возвращает `top_n` документов с наивысшими BM25-баллами.  \n",
    "\n",
    "- **Этап 2: Векторный поиск**  \n",
    "  - Берет эмбеддинги отобранных BM25 документов и запроса.  \n",
    "  - Использует FAISS для поиска семантически ближайших документов .  \n",
    "\n",
    "- **Финальное ранжирование**  \n",
    "  - Сопоставляет результаты FAISS с исходными индексами документов.  \n",
    "\n",
    "---\n",
    "\n",
    "### **Пример работы**  \n",
    "Для запроса *\"Tell me about AI in text and vision\"* система:  \n",
    "1. Найдет документы с ключевыми словами **AI**, **text**, **vision** (BM25).  \n",
    "2. Переотранжирует их по семантической близости, учитывая смысл (например, документы про NLP и Computer Vision получат приоритет) .  \n",
    "\n",
    "---\n",
    "\n",
    "### **Преимущества гибридного подхода**  \n",
    "- **BM25** быстро отбирает кандидаты по ключевым словам.  \n",
    "- **SentenceTransformer + FAISS** уточняют результаты, учитывая контекст и смысл .  \n",
    "\n",
    "---\n"
   ]
  }
 ],
 "metadata": {
  "kernelspec": {
   "display_name": "rocm",
   "language": "python",
   "name": "python3"
  },
  "language_info": {
   "codemirror_mode": {
    "name": "ipython",
    "version": 3
   },
   "file_extension": ".py",
   "mimetype": "text/x-python",
   "name": "python",
   "nbconvert_exporter": "python",
   "pygments_lexer": "ipython3",
   "version": "3.10.16"
  }
 },
 "nbformat": 4,
 "nbformat_minor": 2
}
